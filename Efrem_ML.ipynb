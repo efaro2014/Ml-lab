{
  "nbformat": 4,
  "nbformat_minor": 0,
  "metadata": {
    "colab": {
      "name": "Efrem-ML.ipynb",
      "provenance": [],
      "collapsed_sections": [],
      "authorship_tag": "ABX9TyPxVVEgEwCQPZJkU8oei+wv",
      "include_colab_link": true
    },
    "kernelspec": {
      "name": "python3",
      "display_name": "Python 3"
    }
  },
  "cells": [
    {
      "cell_type": "markdown",
      "metadata": {
        "id": "view-in-github",
        "colab_type": "text"
      },
      "source": [
        "<a href=\"https://colab.research.google.com/github/efaro2014/Ml-lab/blob/main/Efrem_ML.ipynb\" target=\"_parent\"><img src=\"https://colab.research.google.com/assets/colab-badge.svg\" alt=\"Open In Colab\"/></a>"
      ]
    },
    {
      "cell_type": "code",
      "metadata": {
        "id": "ZNwl2a8eKsbx"
      },
      "source": [
        "import pandas as pd\n",
        "import numpy as np \n",
        "from sklearn.model_selection import train_test_split\n",
        "from sklearn.linear_model    import *\n",
        "from sklearn.metrics         import mean_squared_error\n",
        "from sklearn.pipeline        import Pipeline\n",
        "from sklearn.preprocessing   import StandardScaler\n",
        "from sklearn.ensemble import RandomForestClassifier\n",
        "from sklearn.tree import DecisionTreeClassifier\n",
        "from sklearn.linear_model  import LogisticRegression \n",
        "from sklearn.preprocessing import *\n",
        "from sklearn.model_selection import RandomizedSearchCV\n",
        "from sklearn.model_selection import GridSearchCV\n",
        "from sklearn.preprocessing import StandardScaler\n",
        "from sklearn.metrics import accuracy_score\n",
        "from sklearn.inspection import permutation_importance\n",
        "import seaborn as sns\n",
        "import matplotlib.pyplot as plt\n",
        "from sklearn.metrics import roc_auc_score, roc_curve, f1_score"
      ],
      "execution_count": 40,
      "outputs": []
    },
    {
      "cell_type": "code",
      "metadata": {
        "colab": {
          "base_uri": "https://localhost:8080/",
          "height": 419
        },
        "id": "HZA704jH591r",
        "outputId": "7423d293-2381-4a8c-cd13-a4cacc99d8e4"
      },
      "source": [
        "import io\n",
        "heart = 'https://raw.githubusercontent.com/efaro2014/Ml-lab/main/heart_failure_clinical_records_dataset.csv'\n",
        "heart_failure = pd.read_csv(heart)\n",
        "heart_failure\n"
      ],
      "execution_count": 62,
      "outputs": [
        {
          "output_type": "execute_result",
          "data": {
            "text/html": [
              "<div>\n",
              "<style scoped>\n",
              "    .dataframe tbody tr th:only-of-type {\n",
              "        vertical-align: middle;\n",
              "    }\n",
              "\n",
              "    .dataframe tbody tr th {\n",
              "        vertical-align: top;\n",
              "    }\n",
              "\n",
              "    .dataframe thead th {\n",
              "        text-align: right;\n",
              "    }\n",
              "</style>\n",
              "<table border=\"1\" class=\"dataframe\">\n",
              "  <thead>\n",
              "    <tr style=\"text-align: right;\">\n",
              "      <th></th>\n",
              "      <th>age</th>\n",
              "      <th>anaemia</th>\n",
              "      <th>creatinine_phosphokinase</th>\n",
              "      <th>diabetes</th>\n",
              "      <th>ejection_fraction</th>\n",
              "      <th>high_blood_pressure</th>\n",
              "      <th>platelets</th>\n",
              "      <th>serum_creatinine</th>\n",
              "      <th>serum_sodium</th>\n",
              "      <th>sex</th>\n",
              "      <th>smoking</th>\n",
              "      <th>time</th>\n",
              "      <th>DEATH_EVENT</th>\n",
              "    </tr>\n",
              "  </thead>\n",
              "  <tbody>\n",
              "    <tr>\n",
              "      <th>0</th>\n",
              "      <td>75.0</td>\n",
              "      <td>0</td>\n",
              "      <td>582</td>\n",
              "      <td>0</td>\n",
              "      <td>20</td>\n",
              "      <td>1</td>\n",
              "      <td>265000.00</td>\n",
              "      <td>1.9</td>\n",
              "      <td>130</td>\n",
              "      <td>1</td>\n",
              "      <td>0</td>\n",
              "      <td>4</td>\n",
              "      <td>1</td>\n",
              "    </tr>\n",
              "    <tr>\n",
              "      <th>1</th>\n",
              "      <td>55.0</td>\n",
              "      <td>0</td>\n",
              "      <td>7861</td>\n",
              "      <td>0</td>\n",
              "      <td>38</td>\n",
              "      <td>0</td>\n",
              "      <td>263358.03</td>\n",
              "      <td>1.1</td>\n",
              "      <td>136</td>\n",
              "      <td>1</td>\n",
              "      <td>0</td>\n",
              "      <td>6</td>\n",
              "      <td>1</td>\n",
              "    </tr>\n",
              "    <tr>\n",
              "      <th>2</th>\n",
              "      <td>65.0</td>\n",
              "      <td>0</td>\n",
              "      <td>146</td>\n",
              "      <td>0</td>\n",
              "      <td>20</td>\n",
              "      <td>0</td>\n",
              "      <td>162000.00</td>\n",
              "      <td>1.3</td>\n",
              "      <td>129</td>\n",
              "      <td>1</td>\n",
              "      <td>1</td>\n",
              "      <td>7</td>\n",
              "      <td>1</td>\n",
              "    </tr>\n",
              "    <tr>\n",
              "      <th>3</th>\n",
              "      <td>50.0</td>\n",
              "      <td>1</td>\n",
              "      <td>111</td>\n",
              "      <td>0</td>\n",
              "      <td>20</td>\n",
              "      <td>0</td>\n",
              "      <td>210000.00</td>\n",
              "      <td>1.9</td>\n",
              "      <td>137</td>\n",
              "      <td>1</td>\n",
              "      <td>0</td>\n",
              "      <td>7</td>\n",
              "      <td>1</td>\n",
              "    </tr>\n",
              "    <tr>\n",
              "      <th>4</th>\n",
              "      <td>65.0</td>\n",
              "      <td>1</td>\n",
              "      <td>160</td>\n",
              "      <td>1</td>\n",
              "      <td>20</td>\n",
              "      <td>0</td>\n",
              "      <td>327000.00</td>\n",
              "      <td>2.7</td>\n",
              "      <td>116</td>\n",
              "      <td>0</td>\n",
              "      <td>0</td>\n",
              "      <td>8</td>\n",
              "      <td>1</td>\n",
              "    </tr>\n",
              "    <tr>\n",
              "      <th>...</th>\n",
              "      <td>...</td>\n",
              "      <td>...</td>\n",
              "      <td>...</td>\n",
              "      <td>...</td>\n",
              "      <td>...</td>\n",
              "      <td>...</td>\n",
              "      <td>...</td>\n",
              "      <td>...</td>\n",
              "      <td>...</td>\n",
              "      <td>...</td>\n",
              "      <td>...</td>\n",
              "      <td>...</td>\n",
              "      <td>...</td>\n",
              "    </tr>\n",
              "    <tr>\n",
              "      <th>294</th>\n",
              "      <td>62.0</td>\n",
              "      <td>0</td>\n",
              "      <td>61</td>\n",
              "      <td>1</td>\n",
              "      <td>38</td>\n",
              "      <td>1</td>\n",
              "      <td>155000.00</td>\n",
              "      <td>1.1</td>\n",
              "      <td>143</td>\n",
              "      <td>1</td>\n",
              "      <td>1</td>\n",
              "      <td>270</td>\n",
              "      <td>0</td>\n",
              "    </tr>\n",
              "    <tr>\n",
              "      <th>295</th>\n",
              "      <td>55.0</td>\n",
              "      <td>0</td>\n",
              "      <td>1820</td>\n",
              "      <td>0</td>\n",
              "      <td>38</td>\n",
              "      <td>0</td>\n",
              "      <td>270000.00</td>\n",
              "      <td>1.2</td>\n",
              "      <td>139</td>\n",
              "      <td>0</td>\n",
              "      <td>0</td>\n",
              "      <td>271</td>\n",
              "      <td>0</td>\n",
              "    </tr>\n",
              "    <tr>\n",
              "      <th>296</th>\n",
              "      <td>45.0</td>\n",
              "      <td>0</td>\n",
              "      <td>2060</td>\n",
              "      <td>1</td>\n",
              "      <td>60</td>\n",
              "      <td>0</td>\n",
              "      <td>742000.00</td>\n",
              "      <td>0.8</td>\n",
              "      <td>138</td>\n",
              "      <td>0</td>\n",
              "      <td>0</td>\n",
              "      <td>278</td>\n",
              "      <td>0</td>\n",
              "    </tr>\n",
              "    <tr>\n",
              "      <th>297</th>\n",
              "      <td>45.0</td>\n",
              "      <td>0</td>\n",
              "      <td>2413</td>\n",
              "      <td>0</td>\n",
              "      <td>38</td>\n",
              "      <td>0</td>\n",
              "      <td>140000.00</td>\n",
              "      <td>1.4</td>\n",
              "      <td>140</td>\n",
              "      <td>1</td>\n",
              "      <td>1</td>\n",
              "      <td>280</td>\n",
              "      <td>0</td>\n",
              "    </tr>\n",
              "    <tr>\n",
              "      <th>298</th>\n",
              "      <td>50.0</td>\n",
              "      <td>0</td>\n",
              "      <td>196</td>\n",
              "      <td>0</td>\n",
              "      <td>45</td>\n",
              "      <td>0</td>\n",
              "      <td>395000.00</td>\n",
              "      <td>1.6</td>\n",
              "      <td>136</td>\n",
              "      <td>1</td>\n",
              "      <td>1</td>\n",
              "      <td>285</td>\n",
              "      <td>0</td>\n",
              "    </tr>\n",
              "  </tbody>\n",
              "</table>\n",
              "<p>299 rows × 13 columns</p>\n",
              "</div>"
            ],
            "text/plain": [
              "      age  anaemia  creatinine_phosphokinase  ...  smoking  time  DEATH_EVENT\n",
              "0    75.0        0                       582  ...        0     4            1\n",
              "1    55.0        0                      7861  ...        0     6            1\n",
              "2    65.0        0                       146  ...        1     7            1\n",
              "3    50.0        1                       111  ...        0     7            1\n",
              "4    65.0        1                       160  ...        0     8            1\n",
              "..    ...      ...                       ...  ...      ...   ...          ...\n",
              "294  62.0        0                        61  ...        1   270            0\n",
              "295  55.0        0                      1820  ...        0   271            0\n",
              "296  45.0        0                      2060  ...        0   278            0\n",
              "297  45.0        0                      2413  ...        1   280            0\n",
              "298  50.0        0                       196  ...        1   285            0\n",
              "\n",
              "[299 rows x 13 columns]"
            ]
          },
          "metadata": {
            "tags": []
          },
          "execution_count": 62
        }
      ]
    },
    {
      "cell_type": "code",
      "metadata": {
        "id": "Ax6B-PDz6A88"
      },
      "source": [
        "# check for null values and data types"
      ],
      "execution_count": 10,
      "outputs": []
    },
    {
      "cell_type": "markdown",
      "metadata": {
        "id": "mjedeVvhHOww"
      },
      "source": [
        "## check for null values and data types"
      ]
    },
    {
      "cell_type": "code",
      "metadata": {
        "colab": {
          "base_uri": "https://localhost:8080/"
        },
        "id": "jRHlDbgKHNQ_",
        "outputId": "a326382d-a6ff-4566-891c-e6d315ed6a2f"
      },
      "source": [
        "heart_failure.info()"
      ],
      "execution_count": 11,
      "outputs": [
        {
          "output_type": "stream",
          "text": [
            "<class 'pandas.core.frame.DataFrame'>\n",
            "RangeIndex: 299 entries, 0 to 298\n",
            "Data columns (total 13 columns):\n",
            " #   Column                    Non-Null Count  Dtype  \n",
            "---  ------                    --------------  -----  \n",
            " 0   age                       299 non-null    float64\n",
            " 1   anaemia                   299 non-null    int64  \n",
            " 2   creatinine_phosphokinase  299 non-null    int64  \n",
            " 3   diabetes                  299 non-null    int64  \n",
            " 4   ejection_fraction         299 non-null    int64  \n",
            " 5   high_blood_pressure       299 non-null    int64  \n",
            " 6   platelets                 299 non-null    float64\n",
            " 7   serum_creatinine          299 non-null    float64\n",
            " 8   serum_sodium              299 non-null    int64  \n",
            " 9   sex                       299 non-null    int64  \n",
            " 10  smoking                   299 non-null    int64  \n",
            " 11  time                      299 non-null    int64  \n",
            " 12  DEATH_EVENT               299 non-null    int64  \n",
            "dtypes: float64(3), int64(10)\n",
            "memory usage: 30.5 KB\n"
          ],
          "name": "stdout"
        }
      ]
    },
    {
      "cell_type": "markdown",
      "metadata": {
        "id": "EWcO558wHYhw"
      },
      "source": [
        "## check for any correlations between the features by using a correlation matrix."
      ]
    },
    {
      "cell_type": "code",
      "metadata": {
        "colab": {
          "base_uri": "https://localhost:8080/",
          "height": 733
        },
        "id": "mFd299cjHUND",
        "outputId": "6b0e34f5-2989-4624-8b6e-ff1d4d51ad74"
      },
      "source": [
        "cor_mat=heart_failure.corr()\n",
        "fig,ax=plt.subplots(figsize=(12,10))\n",
        "sns.heatmap(cor_mat.corr(), center=0, cmap='mako', annot=True)"
      ],
      "execution_count": 13,
      "outputs": [
        {
          "output_type": "execute_result",
          "data": {
            "text/plain": [
              "<matplotlib.axes._subplots.AxesSubplot at 0x7f838e12ec10>"
            ]
          },
          "metadata": {
            "tags": []
          },
          "execution_count": 13
        },
        {
          "output_type": "display_data",
          "data": {
            "image/png": "[encoded data removed]",
            "text/plain": [
              "<Figure size 864x720 with 2 Axes>"
            ]
          },
          "metadata": {
            "tags": [],
            "needs_background": "light"
          }
        }
      ]
    },
    {
      "cell_type": "code",
      "metadata": {
        "id": "n8KcnYprHeQ4"
      },
      "source": [
        "# get features and target \n",
        "y = heart_failure['DEATH_EVENT'].values\n",
        "X = heart_failure.drop(['DEATH_EVENT'], axis=1).copy().values"
      ],
      "execution_count": 84,
      "outputs": []
    },
    {
      "cell_type": "markdown",
      "metadata": {
        "id": "qv6p0j1fIHFV"
      },
      "source": [
        "#Split DATA"
      ]
    },
    {
      "cell_type": "code",
      "metadata": {
        "id": "LapNIOu7IAOr"
      },
      "source": [
        "X_train, X_test, y_train, y_test = train_test_split(X, y, test_size=0.2, random_state = 0)\n"
      ],
      "execution_count": 85,
      "outputs": []
    },
    {
      "cell_type": "markdown",
      "metadata": {
        "id": "aGzowTX0Hocm"
      },
      "source": [
        "# Model Fitting "
      ]
    },
    {
      "cell_type": "code",
      "metadata": {
        "colab": {
          "base_uri": "https://localhost:8080/"
        },
        "id": "ph9c4diEHhnO",
        "outputId": "6616c1a1-1c1e-4f58-ce9b-ce4224bb4800"
      },
      "source": [
        "# Logistic Regression model \n",
        "pipe = Pipeline([('scaler', StandardScaler()), \n",
        "                 ('logistic',     LogisticRegression())])\n",
        "\n",
        "# pipe = Pipeline([ ('logistic',     LogisticRegression())])\n",
        "\n",
        "pipe.fit(X_train, y_train)\n",
        "y_pred = pipe.predict(X_test)\n",
        "acc = accuracy_score(y_test, y_pred)\n",
        "print(f\"Accuracy: {acc:.2%}\")"
      ],
      "execution_count": 75,
      "outputs": [
        {
          "output_type": "stream",
          "text": [
            "Accuracy: 78.33%\n"
          ],
          "name": "stdout"
        }
      ]
    },
    {
      "cell_type": "code",
      "metadata": {
        "id": "G9ugCpjRH5Gh"
      },
      "source": [
        "hyperparameters = {'C': np.logspace(0, 4, 10),\n",
        " 'fit_intercept': [False,True],\n",
        " 'max_iter': [20, 40, 60, 80,100,120],\n",
        " 'penalty': ['l1', 'l2'],\n",
        " 'tol': [0.0001, 0.001, 0.01, 0.1]\n",
        "                  }\n"
      ],
      "execution_count": 29,
      "outputs": []
    },
    {
      "cell_type": "code",
      "metadata": {
        "id": "ul-vA-KjIScm"
      },
      "source": [
        "\n",
        "clf_rand = RandomizedSearchCV(estimator=LogisticRegression(), \n",
        "                              param_distributions=hyperparameters, \n",
        "                              n_iter=30, \n",
        "                              cv=5, \n",
        "                              verbose=1)\n",
        "clf_rand.fit(X_train, y_train)"
      ],
      "execution_count": null,
      "outputs": []
    },
    {
      "cell_type": "code",
      "metadata": {
        "colab": {
          "base_uri": "https://localhost:8080/"
        },
        "id": "MFhp8BuLIjkm",
        "outputId": "24b0720e-0a76-4a77-e241-c0af58790bbd"
      },
      "source": [
        "y_pred = clf_rand.predict(X_test)\n",
        "acc = accuracy_score(y_test, y_pred)\n",
        "print(f\"Accuracy: {acc:.2%}\")"
      ],
      "execution_count": 34,
      "outputs": [
        {
          "output_type": "stream",
          "text": [
            "Accuracy: 80.00%\n"
          ],
          "name": "stdout"
        }
      ]
    },
    {
      "cell_type": "markdown",
      "metadata": {
        "id": "r8B9kKecI_8D"
      },
      "source": [
        "# Random Forest "
      ]
    },
    {
      "cell_type": "code",
      "metadata": {
        "colab": {
          "base_uri": "https://localhost:8080/"
        },
        "id": "ZH95c73GI3N-",
        "outputId": "18b427dd-51b5-4c68-ea46-be430d88a02c"
      },
      "source": [
        "hyperparameters = {'bootstrap': True,\n",
        " 'ccp_alpha': 0.0,\n",
        " 'class_weight': None,\n",
        " 'criterion': 'entropy',\n",
        " 'max_depth': None,\n",
        " 'max_features': 'log2',\n",
        " 'max_leaf_nodes': None,\n",
        " 'max_samples': None,\n",
        " 'min_impurity_decrease': 0.0,\n",
        " 'min_impurity_split': None,\n",
        " 'min_samples_leaf': 1,\n",
        " 'min_samples_split': 18,\n",
        " 'min_weight_fraction_leaf': 0.0,\n",
        " 'n_estimators': 10,\n",
        " 'n_jobs': 1,\n",
        " 'oob_score': False,\n",
        " 'random_state': 42,\n",
        " 'verbose': 0,\n",
        " 'warm_start': False}\n",
        "\n",
        "pipe = Pipeline([('scaler', StandardScaler()), \n",
        "                 ('RandomForestClassifier',     RandomForestClassifier(**hyperparameters))])\n",
        "\n",
        "pipe.fit(X_train, y_train)\n",
        "\n"
      ],
      "execution_count": 86,
      "outputs": [
        {
          "output_type": "execute_result",
          "data": {
            "text/plain": [
              "Pipeline(memory=None,\n",
              "         steps=[('scaler',\n",
              "                 StandardScaler(copy=True, with_mean=True, with_std=True)),\n",
              "                ('RandomForestClassifier',\n",
              "                 RandomForestClassifier(bootstrap=True, ccp_alpha=0.0,\n",
              "                                        class_weight=None, criterion='entropy',\n",
              "                                        max_depth=None, max_features='log2',\n",
              "                                        max_leaf_nodes=None, max_samples=None,\n",
              "                                        min_impurity_decrease=0.0,\n",
              "                                        min_impurity_split=None,\n",
              "                                        min_samples_leaf=1,\n",
              "                                        min_samples_split=18,\n",
              "                                        min_weight_fraction_leaf=0.0,\n",
              "                                        n_estimators=10, n_jobs=1,\n",
              "                                        oob_score=False, random_state=42,\n",
              "                                        verbose=0, warm_start=False))],\n",
              "         verbose=False)"
            ]
          },
          "metadata": {
            "tags": []
          },
          "execution_count": 86
        }
      ]
    },
    {
      "cell_type": "code",
      "metadata": {
        "colab": {
          "base_uri": "https://localhost:8080/"
        },
        "id": "75OgSYCMI-56",
        "outputId": "a8d3602c-5873-4583-81a7-51633d72287f"
      },
      "source": [
        "y_pred = pipe.predict(X_test)\n",
        "mse = mean_squared_error(y_test, y_pred)\n",
        "acu = accuracy_score(y_test, y_pred)\n",
        "print(f\"mean squared error: {mse:,.4f}\")\n",
        "print(f\"accuracy: {acu:,.4f}\")"
      ],
      "execution_count": 87,
      "outputs": [
        {
          "output_type": "stream",
          "text": [
            "mean squared error: 0.1667\n",
            "accuracy: 0.8333\n"
          ],
          "name": "stdout"
        }
      ]
    },
    {
      "cell_type": "markdown",
      "metadata": {
        "id": "WZxAn4yHsQMj"
      },
      "source": [
        "## Cross validation for random forest "
      ]
    },
    {
      "cell_type": "code",
      "metadata": {
        "id": "WIGHdFeXsNm2"
      },
      "source": [
        ""
      ],
      "execution_count": null,
      "outputs": []
    },
    {
      "cell_type": "code",
      "metadata": {
        "colab": {
          "base_uri": "https://localhost:8080/"
        },
        "id": "RV4gZKjdoYAN",
        "outputId": "8ec6c645-4cda-4c62-b33a-1d2aeae4c18a"
      },
      "source": [
        "# The number of trees in the forest \n",
        "n_estimators = [int(x) for x in np.linspace(start = 10, stop = 400, num = 10)]\n",
        "# Number of features to consider at every split\n",
        "max_features = ['auto', 'sqrt']\n",
        "# Maximum number of levels in tree\n",
        "max_depth = [int(x) for x in np.linspace(4, 60, num = 4)]\n",
        "max_depth.append(None)\n",
        "# Minimum number of samples required to split a node\n",
        "min_samples_split = [1, 5, 10]\n",
        "# Minimum number of samples required at each leaf node\n",
        "min_samples_leaf = list(range(1,4))\n",
        "# Method of selecting samples for training each tree\n",
        "bootstrap = [True, False]\n",
        "# Create the random grid\n",
        "random_grid = {'n_estimators': n_estimators,\n",
        "               'max_features': max_features,\n",
        "               'max_depth': max_depth,\n",
        "               'min_samples_split': min_samples_split,\n",
        "               'min_samples_leaf': min_samples_leaf,\n",
        "               'bootstrap': bootstrap}\n",
        "\n",
        "\n",
        "\n",
        "rf = RandomForestClassifier()\n",
        "grid_search = GridSearchCV(estimator = rf, param_grid = random_grid, cv = 5, n_jobs = -1, verbose = 2)\n",
        "grid_search.fit(X_train, y_train)"
      ],
      "execution_count": 88,
      "outputs": [
        {
          "output_type": "stream",
          "text": [
            "Fitting 5 folds for each of 1800 candidates, totalling 9000 fits\n"
          ],
          "name": "stdout"
        },
        {
          "output_type": "stream",
          "text": [
            "[Parallel(n_jobs=-1)]: Using backend LokyBackend with 2 concurrent workers.\n",
            "[Parallel(n_jobs=-1)]: Done  37 tasks      | elapsed:    7.8s\n",
            "[Parallel(n_jobs=-1)]: Done 158 tasks      | elapsed:   38.9s\n",
            "[Parallel(n_jobs=-1)]: Done 361 tasks      | elapsed:  1.5min\n",
            "[Parallel(n_jobs=-1)]: Done 644 tasks      | elapsed:  2.7min\n",
            "[Parallel(n_jobs=-1)]: Done 1009 tasks      | elapsed:  4.2min\n",
            "[Parallel(n_jobs=-1)]: Done 1454 tasks      | elapsed:  6.1min\n",
            "[Parallel(n_jobs=-1)]: Done 1981 tasks      | elapsed:  8.4min\n",
            "[Parallel(n_jobs=-1)]: Done 2588 tasks      | elapsed: 11.0min\n",
            "[Parallel(n_jobs=-1)]: Done 3277 tasks      | elapsed: 13.9min\n",
            "[Parallel(n_jobs=-1)]: Done 4046 tasks      | elapsed: 17.2min\n",
            "[Parallel(n_jobs=-1)]: Done 4897 tasks      | elapsed: 20.5min\n",
            "[Parallel(n_jobs=-1)]: Done 5828 tasks      | elapsed: 23.5min\n",
            "[Parallel(n_jobs=-1)]: Done 6841 tasks      | elapsed: 27.0min\n",
            "[Parallel(n_jobs=-1)]: Done 7934 tasks      | elapsed: 30.8min\n",
            "[Parallel(n_jobs=-1)]: Done 9000 out of 9000 | elapsed: 34.5min finished\n"
          ],
          "name": "stderr"
        },
        {
          "output_type": "execute_result",
          "data": {
            "text/plain": [
              "GridSearchCV(cv=5, error_score=nan,\n",
              "             estimator=RandomForestClassifier(bootstrap=True, ccp_alpha=0.0,\n",
              "                                              class_weight=None,\n",
              "                                              criterion='gini', max_depth=None,\n",
              "                                              max_features='auto',\n",
              "                                              max_leaf_nodes=None,\n",
              "                                              max_samples=None,\n",
              "                                              min_impurity_decrease=0.0,\n",
              "                                              min_impurity_split=None,\n",
              "                                              min_samples_leaf=1,\n",
              "                                              min_samples_split=2,\n",
              "                                              min_weight_fraction_leaf=0.0,\n",
              "                                              n_estimators=100, n_jobs=None,...\n",
              "                                              random_state=None, verbose=0,\n",
              "                                              warm_start=False),\n",
              "             iid='deprecated', n_jobs=-1,\n",
              "             param_grid={'bootstrap': [True, False],\n",
              "                         'max_depth': [4, 22, 41, 60, None],\n",
              "                         'max_features': ['auto', 'sqrt'],\n",
              "                         'min_samples_leaf': [1, 2, 3],\n",
              "                         'min_samples_split': [2, 5, 10],\n",
              "                         'n_estimators': [10, 53, 96, 140, 183, 226, 270, 313,\n",
              "                                          356, 400]},\n",
              "             pre_dispatch='2*n_jobs', refit=True, return_train_score=False,\n",
              "             scoring=None, verbose=2)"
            ]
          },
          "metadata": {
            "tags": []
          },
          "execution_count": 88
        }
      ]
    },
    {
      "cell_type": "code",
      "metadata": {
        "colab": {
          "base_uri": "https://localhost:8080/"
        },
        "id": "6kDwOAmqwmdP",
        "outputId": "cf16fe57-0406-422c-e99c-9f70edfac5da"
      },
      "source": [
        "y_pred = grid_search.predict(X_test)\n",
        "acu = accuracy_score(y_test, y_pred)\n",
        "print(f\"accuracy: {acu:,.4f}\")"
      ],
      "execution_count": 89,
      "outputs": [
        {
          "output_type": "stream",
          "text": [
            "accuracy: 0.8500\n"
          ],
          "name": "stdout"
        }
      ]
    },
    {
      "cell_type": "markdown",
      "metadata": {
        "id": "bA_Qoxpw0EPV"
      },
      "source": [
        "# Decision Tree Classifier"
      ]
    },
    {
      "cell_type": "code",
      "metadata": {
        "id": "LZtdvjOEz_xg"
      },
      "source": [
        "\n",
        "pipe = Pipeline([('scaler', StandardScaler()), \n",
        "                 ('decision tree', DecisionTreeClassifier())])\n",
        "\n",
        "pipe.fit(X_train, y_train)\n",
        "pred = pipe.predict(X_test)\n",
        "acc = accuracy_score(y_test, pred)\n",
        "print(f\"Accuracy: {acc:.2%}\")\n"
      ],
      "execution_count": null,
      "outputs": []
    },
    {
      "cell_type": "markdown",
      "metadata": {
        "id": "a-onhfTI0MJn"
      },
      "source": [
        "# Cross Validation on Decison Tree "
      ]
    },
    {
      "cell_type": "code",
      "metadata": {
        "id": "5q2nGRzv0OUK"
      },
      "source": [
        "df_classifier = DecisionTreeClassifier(random_state=999)\n",
        "\n",
        "params_DT = {'criterion': ['gini', 'entropy'],\n",
        "             'max_depth': [1, 2, 3, 4, 5, 6, 7, 8,10,12],\n",
        "             'min_samples_split': list(range(1,8)),\n",
        "            'min_samples_leaf': list(range(1,8))}\n",
        "\n",
        "gs_DT = GridSearchCV(estimator=df_classifier, \n",
        "                     param_grid=params_DT, \n",
        "                     cv=5,\n",
        "                     verbose=1, \n",
        "                     scoring='accuracy')\n",
        "\n",
        "gs_DT.fit(X_train, y_train);\n",
        "\n",
        "pred = pipe.predict(X_test)\n",
        "acc = accuracy_score(y_test, pred)\n",
        "print(f\"Accuracy: {acc:.2%}\")\n"
      ],
      "execution_count": null,
      "outputs": []
    },
    {
      "cell_type": "markdown",
      "metadata": {
        "id": "uGPT_cYRJKQk"
      },
      "source": [
        "# Feature Importance \n",
        " The most important features are number of follow ups, serum creatinine and ejection fractions"
      ]
    },
    {
      "cell_type": "code",
      "metadata": {
        "colab": {
          "base_uri": "https://localhost:8080/",
          "height": 297
        },
        "id": "NA_Oud3oJG1j",
        "outputId": "00e23bf7-5250-47bc-b9f0-973ee99cb195"
      },
      "source": [
        "X = heart_failure.drop(['DEATH_EVENT'], axis=1)\n",
        "\n",
        "X_tr, X_ts, y_tr, y_ts = train_test_split(X, y, test_size=0.3, random_state = 0)\n",
        "\n",
        "r = permutation_importance(pipe, \n",
        "                           X_test, y_test, # Using a held-out set makes it possible to highlight which features contribute the most to the generalization power of the inspected model. \n",
        "                           n_repeats=10,\n",
        "                           random_state=42)\n",
        "\n",
        "sorted_idx = r.importances_mean.argsort()\n",
        "\n",
        "fig, ax = plt.subplots()\n",
        "ax.boxplot(r.importances[sorted_idx].T,\n",
        "           vert=False, labels=X_tr.columns[sorted_idx])\n",
        "ax.set_title(\"Permutation Importances (train set)\")\n",
        "fig.tight_layout()\n",
        "plt.show()"
      ],
      "execution_count": 69,
      "outputs": [
        {
          "output_type": "display_data",
          "data": {
            "image/png": "[encoded data removed]",
            "text/plain": [
              "<Figure size 432x288 with 1 Axes>"
            ]
          },
          "metadata": {
            "tags": [],
            "needs_background": "light"
          }
        }
      ]
    },
    {
      "cell_type": "markdown",
      "metadata": {
        "id": "4Hapxb9gJhRd"
      },
      "source": [
        ""
      ]
    },
    {
      "cell_type": "code",
      "metadata": {
        "id": "fTDHrmpAWwQX"
      },
      "source": [
        ""
      ],
      "execution_count": 78,
      "outputs": []
    },
    {
      "cell_type": "code",
      "metadata": {
        "id": "reueR9gIK0on"
      },
      "source": [
        ""
      ],
      "execution_count": null,
      "outputs": []
    },
    {
      "cell_type": "markdown",
      "metadata": {
        "id": "_wqy7xNAK9Es"
      },
      "source": [
        "## Model Based on Feature Importance(features selected) "
      ]
    },
    {
      "cell_type": "code",
      "metadata": {
        "colab": {
          "base_uri": "https://localhost:8080/",
          "height": 419
        },
        "id": "HRHWitcLK7yo",
        "outputId": "12c18d1f-dd26-4a94-b3bd-108c630d895f"
      },
      "source": [
        "new = heart_failure[['ejection_fraction','time','serum_creatinine','DEATH_EVENT']]\n",
        "label = new['DEATH_EVENT'].values\n",
        "features = new.drop(['DEATH_EVENT'], axis=1).copy()\n",
        "new"
      ],
      "execution_count": 79,
      "outputs": [
        {
          "output_type": "execute_result",
          "data": {
            "text/html": [
              "<div>\n",
              "<style scoped>\n",
              "    .dataframe tbody tr th:only-of-type {\n",
              "        vertical-align: middle;\n",
              "    }\n",
              "\n",
              "    .dataframe tbody tr th {\n",
              "        vertical-align: top;\n",
              "    }\n",
              "\n",
              "    .dataframe thead th {\n",
              "        text-align: right;\n",
              "    }\n",
              "</style>\n",
              "<table border=\"1\" class=\"dataframe\">\n",
              "  <thead>\n",
              "    <tr style=\"text-align: right;\">\n",
              "      <th></th>\n",
              "      <th>ejection_fraction</th>\n",
              "      <th>time</th>\n",
              "      <th>serum_creatinine</th>\n",
              "      <th>DEATH_EVENT</th>\n",
              "    </tr>\n",
              "  </thead>\n",
              "  <tbody>\n",
              "    <tr>\n",
              "      <th>0</th>\n",
              "      <td>20</td>\n",
              "      <td>4</td>\n",
              "      <td>1.9</td>\n",
              "      <td>1</td>\n",
              "    </tr>\n",
              "    <tr>\n",
              "      <th>1</th>\n",
              "      <td>38</td>\n",
              "      <td>6</td>\n",
              "      <td>1.1</td>\n",
              "      <td>1</td>\n",
              "    </tr>\n",
              "    <tr>\n",
              "      <th>2</th>\n",
              "      <td>20</td>\n",
              "      <td>7</td>\n",
              "      <td>1.3</td>\n",
              "      <td>1</td>\n",
              "    </tr>\n",
              "    <tr>\n",
              "      <th>3</th>\n",
              "      <td>20</td>\n",
              "      <td>7</td>\n",
              "      <td>1.9</td>\n",
              "      <td>1</td>\n",
              "    </tr>\n",
              "    <tr>\n",
              "      <th>4</th>\n",
              "      <td>20</td>\n",
              "      <td>8</td>\n",
              "      <td>2.7</td>\n",
              "      <td>1</td>\n",
              "    </tr>\n",
              "    <tr>\n",
              "      <th>...</th>\n",
              "      <td>...</td>\n",
              "      <td>...</td>\n",
              "      <td>...</td>\n",
              "      <td>...</td>\n",
              "    </tr>\n",
              "    <tr>\n",
              "      <th>294</th>\n",
              "      <td>38</td>\n",
              "      <td>270</td>\n",
              "      <td>1.1</td>\n",
              "      <td>0</td>\n",
              "    </tr>\n",
              "    <tr>\n",
              "      <th>295</th>\n",
              "      <td>38</td>\n",
              "      <td>271</td>\n",
              "      <td>1.2</td>\n",
              "      <td>0</td>\n",
              "    </tr>\n",
              "    <tr>\n",
              "      <th>296</th>\n",
              "      <td>60</td>\n",
              "      <td>278</td>\n",
              "      <td>0.8</td>\n",
              "      <td>0</td>\n",
              "    </tr>\n",
              "    <tr>\n",
              "      <th>297</th>\n",
              "      <td>38</td>\n",
              "      <td>280</td>\n",
              "      <td>1.4</td>\n",
              "      <td>0</td>\n",
              "    </tr>\n",
              "    <tr>\n",
              "      <th>298</th>\n",
              "      <td>45</td>\n",
              "      <td>285</td>\n",
              "      <td>1.6</td>\n",
              "      <td>0</td>\n",
              "    </tr>\n",
              "  </tbody>\n",
              "</table>\n",
              "<p>299 rows × 4 columns</p>\n",
              "</div>"
            ],
            "text/plain": [
              "     ejection_fraction  time  serum_creatinine  DEATH_EVENT\n",
              "0                   20     4               1.9            1\n",
              "1                   38     6               1.1            1\n",
              "2                   20     7               1.3            1\n",
              "3                   20     7               1.9            1\n",
              "4                   20     8               2.7            1\n",
              "..                 ...   ...               ...          ...\n",
              "294                 38   270               1.1            0\n",
              "295                 38   271               1.2            0\n",
              "296                 60   278               0.8            0\n",
              "297                 38   280               1.4            0\n",
              "298                 45   285               1.6            0\n",
              "\n",
              "[299 rows x 4 columns]"
            ]
          },
          "metadata": {
            "tags": []
          },
          "execution_count": 79
        }
      ]
    },
    {
      "cell_type": "code",
      "metadata": {
        "id": "ZLJ8y7kPLZQO"
      },
      "source": [
        "X_tr, X_ts, y_tr, y_ts = train_test_split(features, label, test_size=0.2, random_state = 42)\n"
      ],
      "execution_count": 80,
      "outputs": []
    },
    {
      "cell_type": "code",
      "metadata": {
        "colab": {
          "base_uri": "https://localhost:8080/"
        },
        "id": "gpUrWySuL6EM",
        "outputId": "a3c56100-d1d3-4bd2-df1c-99ffd094d0ce"
      },
      "source": [
        "hyperparameters = {'bootstrap': True,\n",
        " 'criterion': 'entropy',\n",
        " 'max_depth': 10,\n",
        " 'max_features': 'log2',\n",
        " 'min_samples_leaf': 1,\n",
        " 'min_samples_split': 18,\n",
        " 'min_weight_fraction_leaf': 0.0,\n",
        " 'n_estimators': 10,\n",
        " 'n_jobs': 1,\n",
        " 'oob_score': False,\n",
        " 'random_state': 42,\n",
        " 'warm_start': False}\n",
        "\n",
        "pipe = Pipeline([('scaler', StandardScaler()), \n",
        "                 ('RandomForestClassifier',     RandomForestClassifier(**hyperparameters))])\n",
        "\n",
        "pipe.fit(X_tr, y_tr)\n",
        "\n",
        "y_pred = pipe.predict(X_ts)\n",
        "acc = accuracy_score(y_test, y_pred)\n",
        "print(f\"Accuracy: {acc:.2%}\")\n"
      ],
      "execution_count": 81,
      "outputs": [
        {
          "output_type": "stream",
          "text": [
            "mean squared error: 0.2667\n",
            "Accuracy: 73.33%\n"
          ],
          "name": "stdout"
        }
      ]
    },
    {
      "cell_type": "code",
      "metadata": {
        "id": "VtZqqblGX871"
      },
      "source": [
        "# Best Selected model R\n"
      ],
      "execution_count": null,
      "outputs": []
    },
    {
      "cell_type": "markdown",
      "metadata": {
        "id": "FjmK3wcWxTah"
      },
      "source": [
        "# Best Selected model Random Forest "
      ]
    },
    {
      "cell_type": "code",
      "metadata": {
        "colab": {
          "base_uri": "https://localhost:8080/"
        },
        "id": "xFX5MTaxkLvr",
        "outputId": "c49b0830-6dd0-4031-ef6e-f370c8de9969"
      },
      "source": [
        "hyperparameters = {'bootstrap': True,\n",
        " 'max_features': 'auto',\n",
        " 'min_impurity_split': None,\n",
        " 'min_samples_leaf': 1,\n",
        " 'min_samples_split': 2,\n",
        " 'min_weight_fraction_leaf': 0.0,\n",
        " 'n_estimators': 100,\n",
        " 'n_jobs': 1,\n",
        " 'oob_score': False,\n",
        " 'verbose': 0,\n",
        " 'warm_start': False}\n",
        " \n",
        "\n",
        "pipe = Pipeline([('scaler', StandardScaler()), \n",
        "                 ('RandomForestClassifier',     RandomForestClassifier(**hyperparameters))])\n",
        "\n",
        "pipe.fit(X_tr, y_tr)\n"
      ],
      "execution_count": 90,
      "outputs": [
        {
          "output_type": "execute_result",
          "data": {
            "text/plain": [
              "Pipeline(memory=None,\n",
              "         steps=[('scaler',\n",
              "                 StandardScaler(copy=True, with_mean=True, with_std=True)),\n",
              "                ('RandomForestClassifier',\n",
              "                 RandomForestClassifier(bootstrap=True, ccp_alpha=0.0,\n",
              "                                        class_weight=None, criterion='gini',\n",
              "                                        max_depth=None, max_features='auto',\n",
              "                                        max_leaf_nodes=None, max_samples=None,\n",
              "                                        min_impurity_decrease=0.0,\n",
              "                                        min_impurity_split=None,\n",
              "                                        min_samples_leaf=1, min_samples_split=2,\n",
              "                                        min_weight_fraction_leaf=0.0,\n",
              "                                        n_estimators=100, n_jobs=1,\n",
              "                                        oob_score=False, random_state=None,\n",
              "                                        verbose=0, warm_start=False))],\n",
              "         verbose=False)"
            ]
          },
          "metadata": {
            "tags": []
          },
          "execution_count": 90
        }
      ]
    },
    {
      "cell_type": "code",
      "metadata": {
        "colab": {
          "base_uri": "https://localhost:8080/"
        },
        "id": "8RpTzwxzkMO_",
        "outputId": "718f7fd7-a033-419d-f7f0-2a551f6b6039"
      },
      "source": [
        "pred = pipe.predict(X_ts)\n",
        "acc = accuracy_score(y_ts, pred)\n",
        "print(f\"Accuracy: {acc:.2%}\")"
      ],
      "execution_count": 91,
      "outputs": [
        {
          "output_type": "stream",
          "text": [
            "Accuracy: 87.78%\n"
          ],
          "name": "stdout"
        }
      ]
    },
    {
      "cell_type": "code",
      "metadata": {
        "id": "mwpMA2NckOjl"
      },
      "source": [
        ""
      ],
      "execution_count": null,
      "outputs": []
    },
    {
      "cell_type": "markdown",
      "metadata": {
        "id": "eZltU7A1xaJk"
      },
      "source": [
        "# Summary "
      ]
    },
    {
      "cell_type": "markdown",
      "metadata": {
        "id": "YqZCcbAhxkcu"
      },
      "source": [
        "The Final selected model is Random Forest with n_estimators=100,  min_samples_leaf=1, min_samples_split=2 and the accuracy score has improved from 83.3 to 87.78. \n",
        "Taking a baseline model like Logistic Regression with an accuracy score of 0.78 helped to check how good my model is. The model fiited based on Feature Importance didn't show much improvement in the model performance(the accuracy score was 73.3). \n"
      ]
    }
  ]
}